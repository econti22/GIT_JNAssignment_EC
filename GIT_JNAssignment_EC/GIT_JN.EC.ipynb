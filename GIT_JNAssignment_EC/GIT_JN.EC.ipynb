{
 "cells": [
  {
   "cell_type": "markdown",
   "id": "86b2c3e8",
   "metadata": {},
   "source": [
    "<h1 style=\"font-size:3rem;color:orange;\"> Jupyter Notevook Assignment </h1>"
   ]
  },
  {
   "cell_type": "markdown",
   "id": "6c5b533a",
   "metadata": {},
   "source": [
    "## Geographical Storytelling\n",
    "Turkish earthquake locations"
   ]
  },
  {
   "cell_type": "markdown",
   "id": "bf67220c",
   "metadata": {},
   "source": [
    "<img src=\"https://emergency.copernicus.eu/mapping/sites/default/files/thumbnails/EMSR648-AEM-1675704671-r01-v1.jpg\">"
   ]
  },
  {
   "cell_type": "markdown",
   "id": "279f022d",
   "metadata": {},
   "source": [
    "### Loading data\n",
    "\n",
    "Loading the European Fault-Source Model 2020 (EFSM20): online data on fault geometry and activity parameters directly from the web ([WMS](https://services.seismofaults.eu/EFSM20/ows?service=WFS&request=getCapabilities)):"
   ]
  },
  {
   "cell_type": "code",
   "execution_count": null,
   "id": "54f45598",
   "metadata": {},
   "outputs": [],
   "source": []
  }
 ],
 "metadata": {
  "kernelspec": {
   "display_name": "GC",
   "language": "python",
   "name": "gc"
  }
 },
 "nbformat": 4,
 "nbformat_minor": 5
}
